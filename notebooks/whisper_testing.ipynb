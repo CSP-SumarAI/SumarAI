{
 "cells": [
  {
   "cell_type": "code",
   "execution_count": 15,
   "metadata": {},
   "outputs": [],
   "source": [
    "import whisper\n",
    "import textwrap"
   ]
  },
  {
   "cell_type": "code",
   "execution_count": 19,
   "metadata": {},
   "outputs": [
    {
     "data": {
      "text/plain": [
       "['tiny.en',\n",
       " 'tiny',\n",
       " 'base.en',\n",
       " 'base',\n",
       " 'small.en',\n",
       " 'small',\n",
       " 'medium.en',\n",
       " 'medium',\n",
       " 'large-v1',\n",
       " 'large-v2',\n",
       " 'large']"
      ]
     },
     "execution_count": 19,
     "metadata": {},
     "output_type": "execute_result"
    }
   ],
   "source": [
    "whisper.available_models()"
   ]
  },
  {
   "cell_type": "code",
   "execution_count": 20,
   "metadata": {},
   "outputs": [
    {
     "name": "stderr",
     "output_type": "stream",
     "text": [
      "100%|█████████████████████████████████████| 1.42G/1.42G [00:59<00:00, 25.6MiB/s]\n",
      "100%|█████████████████████████████████████| 2.87G/2.87G [01:27<00:00, 35.4MiB/s]\n"
     ]
    }
   ],
   "source": [
    "# load models to memory (total size 4GB)\n",
    "model_base = whisper.load_model(\"base\")\n",
    "model_small = whisper.load_model(\"small\")\n",
    "model_medium = whisper.load_model(\"medium\")\n",
    "model_large = whisper.load_model(\"large\")"
   ]
  },
  {
   "cell_type": "code",
   "execution_count": 2,
   "metadata": {},
   "outputs": [
    {
     "name": "stdout",
     "output_type": "stream",
     "text": [
      "Detected language: fi\n"
     ]
    }
   ],
   "source": [
    "# load audio and pad/trim it to fit 30 seconds\n",
    "audio = whisper.load_audio(\"teivainen-zyskowitz.mp3\")\n",
    "audio = whisper.pad_or_trim(audio)\n",
    "\n",
    "# make log-Mel spectrogram and move to the same device as the model\n",
    "mel = whisper.log_mel_spectrogram(audio).to(model.device)\n",
    "\n",
    "# detect the spoken language\n",
    "_, probs = model.detect_language(mel)\n",
    "print(f\"Detected language: {max(probs, key=probs.get)}\")"
   ]
  },
  {
   "cell_type": "code",
   "execution_count": 22,
   "metadata": {},
   "outputs": [
    {
     "name": "stdout",
     "output_type": "stream",
     "text": [
      "Transcription with Base model. \n",
      "\n",
      "Terve, kaikki katsotaan, että kuuntelee, että terve tulla avutukästiin maanteiden juontajat tänään isak-rautio. Mennään\n",
      "jaksoon. Tässä jaksapuutaan mun massa holkaustin, kieltämisen tai kiistämisen lailisuudesta, ehkä vaan vakarististää\n",
      "muista vastavalleista aiheesta ja vienne meillä on studiossa. Helsingin Yliopiston maailman politiikan professori.\n",
      "Teivota ei vain etävät tulla. Iva mahtava olla tälttein upeissa studiossa. Kiitos, olen just muuta. Ja näin hyvä\n",
      "seurassa vielä.\n",
      "\n",
      "\n",
      "Transcription with Small model. \n",
      "\n",
      "Terve, kaikkia katsojat ja kuuntelijat, tervetuloa Futukeastiin. Mä oon teidän juontaja tänään Isaac Rautio. Mennään\n",
      "jakson. Tässä jakso puhutaan mun muassa holokaustin, kieltämisen tai kiistämisen laillisuudesta. Ehkä vään hakarististää\n",
      "muista vastaavalaista aiheesta ja vieränä meillä on studiossa. Helsingin yliopiston maailman politiikan professori Teivo\n",
      "Teiva, ennen tervetuloa. Iva mahtava olla täältä teidän UP-sassa studiossa. Kiitos olla just muutamassa. Ja näin hyvä\n",
      "seurassa vielä.\n",
      "\n",
      "\n",
      "Transcription with Medium model. \n",
      "\n",
      "Terve kaikki katsojat ja kuuntelejat tervetuloa Futucastiin. Mä oon teidän juontaja tänään Isak Rautio. Mennään jaksoon.\n",
      "Tässä jaksolla puhutaan muun muassa holokaustin kieltämisen tai kiistämisen laillisuudesta. Ehkä vähän hakaristista ja\n",
      "muista vastaavalaista aiheista. Vierrana meillä on studiossa Helsingin yliopiston maailmanpolitiikan professori Teivo\n",
      "Teivainen. Tervetuloa. Iva mahtavaa olla täällä teidän upeassa studiossa. Kiitos olla just muuten tänne. Ja näin hyvässä\n",
      "seurassa vielä.\n",
      "\n",
      "\n"
     ]
    }
   ],
   "source": [
    "# decode the audio\n",
    "models = [model_base, model_small, model_medium]\n",
    "model_names = ['Base model', 'Small model', 'Medium model']\n",
    "options = whisper.DecodingOptions(fp16=False)\n",
    "\n",
    "for i, model in enumerate(models):\n",
    "    result = whisper.decode(model, mel, options)\n",
    "\n",
    "    # print the recognized text\n",
    "    print(f\"Transcription with {model_names[i]}. \\n\")\n",
    "    print(textwrap.fill(result.text, 120))\n",
    "    print(\"\\n\")"
   ]
  },
  {
   "cell_type": "code",
   "execution_count": null,
   "metadata": {},
   "outputs": [],
   "source": [
    "# Transcribe full audio at once. It takes quite long time. Didn't run it.\n",
    "model = whisper.load_model(\"small\")\n",
    "result = model.transcribe(\"teivainen-zyskowitz.mp3\")\n",
    "print(result[\"text\"])"
   ]
  }
 ],
 "metadata": {
  "kernelspec": {
   "display_name": "csp-summar-ai-cYiaUNyk",
   "language": "python",
   "name": "python3"
  },
  "language_info": {
   "codemirror_mode": {
    "name": "ipython",
    "version": 3
   },
   "file_extension": ".py",
   "mimetype": "text/x-python",
   "name": "python",
   "nbconvert_exporter": "python",
   "pygments_lexer": "ipython3",
   "version": "3.10.10"
  },
  "orig_nbformat": 4
 },
 "nbformat": 4,
 "nbformat_minor": 2
}
